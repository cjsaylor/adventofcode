{
 "cells": [
  {
   "cell_type": "markdown",
   "metadata": {},
   "source": [
    "## Day 3: Mull It Over\n",
    "\n",
    "\"Our computers are having issues, so I have no idea if we have any Chief Historians in stock! You're welcome to check the warehouse, though,\" says the mildly flustered shopkeeper at the North Pole Toboggan Rental Shop. The Historians head out to take a look.\n",
    "\n",
    "The shopkeeper turns to you. \"Any chance you can see why our computers are having issues again?\"\n",
    "\n",
    "The computer appears to be trying to run a program, but its memory (your puzzle input) is corrupted. All of the instructions have been jumbled up!\n",
    "\n",
    "It seems like the goal of the program is just to multiply some numbers. It does that with instructions like `mul(X,Y)`, where `X` and `Y` are each 1-3 digit numbers. For instance, `mul(44,46)` multiplies 44 by 46 to get a result of 2024. Similarly, `mul(123,4)` would multiply 123 by 4.\n",
    "\n",
    "However, because the program's memory has been corrupted, there are also many invalid characters that should be ignored, even if they look like part of a mul instruction. Sequences like `mul(4*, mul(6,9!, ?(12,34)`, or `mul ( 2 , 4 )` do nothing.\n",
    "\n",
    "For example, consider the following section of corrupted memory:\n",
    "\n",
    "> x**mul(2,4)**%&mul[3,7]!@^do_not_**mul(5,5)**+mul(32,64]then(**mul(11,8)mul(8,5)**)\n",
    "\n",
    "Only the four highlighted sections are real mul instructions. Adding up the result of each instruction produces 161 (`2*4 + 5*5 + 11*8 + 8*5`).\n",
    "\n",
    "Scan the corrupted memory for uncorrupted mul instructions. What do you get if you add up all of the results of the multiplications?\n"
   ]
  },
  {
   "cell_type": "code",
   "execution_count": 1,
   "metadata": {},
   "outputs": [],
   "source": [
    "//This input file is uploaded to the jupyter server to be able to read it locally.\n",
    "// A copy of the input was included in this repo.\n",
    "const input:string = await Deno.readTextFile(\"./day3input.txt\")"
   ]
  },
  {
   "cell_type": "code",
   "execution_count": 2,
   "metadata": {},
   "outputs": [
    {
     "name": "stdout",
     "output_type": "stream",
     "text": [
      "183788984\n"
     ]
    }
   ],
   "source": [
    "function mulSum(program:string): int {\n",
    "\t// Find all the mul() commands\n",
    "\treturn program.match(/(mul\\(\\d+,\\d+\\))/g)\n",
    "\t\t// map them all to the two argument tuples\n",
    "\t\t?.map(function (instruction: string) {\n",
    "\t\t\tconst result = instruction.match(/mul\\((\\d+),(\\d+)\\)/)\n",
    "\t\t\treturn [parseInt(result[1], 10), parseInt(result[2], 10)]\n",
    "\t\t})\n",
    "\t\t// do the multiplication\n",
    "\t\t.map(([a, b]: [int, int]) => a * b)\n",
    "\t\t// sum the results\n",
    "\t\t.reduce((acc: int, result: int) => acc + result, 0)\n",
    "}\n",
    "\n",
    "console.log(mulSum(input))"
   ]
  },
  {
   "cell_type": "markdown",
   "metadata": {},
   "source": [
    "### Part Two\n",
    "\n",
    "As you scan through the corrupted memory, you notice that some of the conditional statements are also still intact. If you handle some of the uncorrupted conditional statements in the program, you might be able to get an even more accurate result.\n",
    "\n",
    "There are two new instructions you'll need to handle:\n",
    "\n",
    "* The do() instruction enables future mul instructions.\n",
    "* The don't() instruction disables future mul instructions.\n",
    "\n",
    "Only the most recent do() or don't() instruction applies. At the beginning of the program, mul instructions are enabled.\n",
    "\n",
    "For example:\n",
    "\n",
    "x**mul(2,4)**&mul[3,7]!^**don't()**_mul(5,5)+mul(32,64](mul(11,8)un**do()**?**mul(8,5)**)\n",
    "\n",
    "This corrupted memory is similar to the example from before, but this time the `mul(5,5)` and `mul(11,8)` instructions are disabled because there is a `don't()` instruction before them. The other mul instructions function normally, including the one at the end that gets re-enabled by a do() instruction.\n",
    "\n",
    "This time, the sum of the results is 48 `(2*4 + 8*5)`.\n",
    "\n",
    "Handle the new instructions; what do you get if you add up all of the results of just the enabled multiplications?\n"
   ]
  },
  {
   "cell_type": "code",
   "execution_count": 3,
   "metadata": {},
   "outputs": [
    {
     "name": "stdout",
     "output_type": "stream",
     "text": [
      "62098619\n"
     ]
    }
   ],
   "source": [
    "// Reconstruct the program string with the don't() sections removed and then repeat part 1's expression\n",
    "const reenabled: string = input.split(\"do()\")\n",
    "\t// Splitting on the do()s means that we now scan each string for don't() and take what is before it\n",
    "\t// If don't isn't present, the split will return the whole string in the first position of the array\n",
    "\t.map((entry:string) => entry.split(\"don't\")[0])\n",
    "\t// concat the results together\n",
    "\t.reduce((acc:string, instruction:string) => acc.concat(instruction), \"\")\n",
    "\n",
    "console.log(mulSum(reenabled))"
   ]
  }
 ],
 "metadata": {
  "kernelspec": {
   "display_name": "Deno",
   "language": "typescript",
   "name": "deno"
  },
  "language_info": {
   "codemirror_mode": "typescript",
   "file_extension": ".ts",
   "mimetype": "text/x.typescript",
   "name": "typescript",
   "nbconvert_exporter": "script",
   "pygments_lexer": "typescript",
   "version": "5.6.2"
  }
 },
 "nbformat": 4,
 "nbformat_minor": 2
}
