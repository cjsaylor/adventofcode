{
 "cells": [
  {
   "cell_type": "markdown",
   "metadata": {},
   "source": [
    "## Day 2: Red-Nosed Reports\n",
    "\n",
    "Fortunately, the first location The Historians want to search isn't a long walk from the Chief Historian's office.\n",
    "\n",
    "While the Red-Nosed Reindeer nuclear fusion/fission plant appears to contain no sign of the Chief Historian, the engineers there run up to you as soon as they see you. Apparently, they still talk about the time Rudolph was saved through molecular synthesis from a single electron.\n",
    "\n",
    "They're quick to add that - since you're already here - they'd really appreciate your help analyzing some unusual data from the Red-Nosed reactor. You turn to check if The Historians are waiting for you, but they seem to have already divided into groups that are currently searching every corner of the facility. You offer to help with the unusual data.\n",
    "\n",
    "The unusual data (your puzzle input) consists of many reports, one report per line. Each report is a list of numbers called levels that are separated by spaces. For example:\n",
    "\n",
    "```\n",
    "7 6 4 2 1\n",
    "1 2 7 8 9\n",
    "9 7 6 2 1\n",
    "1 3 2 4 5\n",
    "8 6 4 4 1\n",
    "1 3 6 7 9\n",
    "```\n",
    "\n",
    "This example data contains six reports each containing five levels.\n",
    "\n",
    "The engineers are trying to figure out which reports are safe. The Red-Nosed reactor safety systems can only tolerate levels that are either gradually increasing or gradually decreasing. So, a report only counts as safe if both of the following are true:\n",
    "\n",
    "* The levels are either all increasing or all decreasing.\n",
    "* Any two adjacent levels differ by at least one and at most three.\n",
    "\n",
    "In the example above, the reports can be found safe or unsafe by checking those rules:\n",
    "\n",
    "* `7 6 4 2 1`: Safe because the levels are all decreasing by 1 or 2.\n",
    "* `1 2 7 8 9`: Unsafe because 2 7 is an increase of 5.\n",
    "* `9 7 6 2 1`: Unsafe because 6 2 is a decrease of 4.\n",
    "* `1 3 2 4 5`: Unsafe because 1 3 is increasing but 3 2 is decreasing.\n",
    "* `8 6 4 4 1`: Unsafe because 4 4 is neither an increase or a decrease.\n",
    "* `1 3 6 7 9`: Safe because the levels are all increasing by 1, 2, or 3.\n",
    "\n",
    "So, in this example, 2 reports are safe.\n",
    "\n",
    "Analyze the unusual data from the engineers. How many reports are safe?\n"
   ]
  },
  {
   "cell_type": "code",
   "execution_count": 1,
   "metadata": {},
   "outputs": [],
   "source": [
    "// Note: This input file is uploaded to the jupyter server to be able to read it locally.\n",
    "// A copy of the input was included in this repo.\n",
    "const input = await Deno.readTextFile(\"./day2input.txt\")\n",
    "\n",
    "// Adjust input into an array of integers for easier processing\n",
    "const parsedInput = input.split(\"\\n\").map((line) => line.split(\" \").map((reading) => parseInt(reading, 10)))"
   ]
  },
  {
   "cell_type": "code",
   "execution_count": 2,
   "metadata": {},
   "outputs": [
    {
     "name": "stdout",
     "output_type": "stream",
     "text": [
      "379\n"
     ]
    }
   ],
   "source": [
    "function isSafe(readings: number[]): boolean {\n",
    "\t// Assumes a minimum number of readings\n",
    "\tconst dir = readings[0] - readings[1] > 0 ? 1 : -1\n",
    "\t// Start with 1 since we're comparing to \"previous\" value (also assumes minumum of two elements)\n",
    "\tfor (let i = 1; i < readings.length; i++) {\n",
    "\t\tconst diff = readings[i - 1] - readings[i]\n",
    "\t\tif (diff == 0 || Math.abs(diff) > 3 || diff * dir < 0)\n",
    "\t\t\treturn false\n",
    "\t}\n",
    "\treturn true\n",
    "}\n",
    "console.log(parsedInput.map(isSafe).filter((outcome: boolean) => outcome).length)"
   ]
  },
  {
   "cell_type": "markdown",
   "metadata": {},
   "source": [
    "## Part 2\n",
    "\n",
    "The engineers are surprised by the low number of safe reports until they realize they forgot to tell you about the Problem Dampener.\n",
    "\n",
    "The Problem Dampener is a reactor-mounted module that lets the reactor safety systems tolerate a single bad level in what would otherwise be a safe report. It's like the bad level never happened!\n",
    "\n",
    "Now, the same rules apply as before, except if removing a single level from an unsafe report would make it safe, the report instead counts as safe.\n",
    "\n",
    "More of the above example's reports are now safe:\n",
    "\n",
    "* `7 6 4 2 1`: Safe without removing any level.\n",
    "* `1 2 7 8 9`: Unsafe regardless of which level is removed.\n",
    "* `9 7 6 2 1`: Unsafe regardless of which level is removed.\n",
    "* `1 3 2 4 5`: Safe by removing the second level, 3.\n",
    "* `8 6 4 4 1`: Safe by removing the third level, 4.\n",
    "* `1 3 6 7 9`: Safe without removing any level.\n",
    "\n",
    "Thanks to the Problem Dampener, 4 reports are actually safe!\n",
    "\n",
    "Update your analysis by handling situations where the Problem Dampener can remove a single level from unsafe reports. How many reports are now safe?"
   ]
  },
  {
   "cell_type": "code",
   "execution_count": 3,
   "metadata": {},
   "outputs": [
    {
     "name": "stdout",
     "output_type": "stream",
     "text": [
      "430\n"
     ]
    }
   ],
   "source": [
    "let readingOutcomes: boolean[] = parsedInput.map(function (readings: number[]) {\n",
    "\tif (isSafe(readings)) {\n",
    "\t\treturn true\n",
    "\t}\n",
    "\tfor (let i = 0; i < readings.length; i++) {\n",
    "\t\tif (isSafe(readings.filter((_, ind) => ind != i))) {\n",
    "\t\t\treturn true\n",
    "\t\t}\n",
    "\t}\n",
    "\treturn false\n",
    "})\n",
    "console.log(readingOutcomes.filter((outcome) => outcome).length)"
   ]
  }
 ],
 "metadata": {
  "kernelspec": {
   "display_name": "Deno",
   "language": "typescript",
   "name": "deno"
  },
  "language_info": {
   "codemirror_mode": "typescript",
   "file_extension": ".ts",
   "mimetype": "text/x.typescript",
   "name": "typescript",
   "nbconvert_exporter": "script",
   "pygments_lexer": "typescript",
   "version": "5.6.2"
  }
 },
 "nbformat": 4,
 "nbformat_minor": 2
}
