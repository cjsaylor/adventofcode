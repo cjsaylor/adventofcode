{
 "cells": [
  {
   "cell_type": "markdown",
   "metadata": {},
   "source": [
    "## Day 4: Ceres Search\n",
    "\n",
    "\"Looks like the Chief's not here. Next!\" One of The Historians pulls out a device and pushes the only button on it. After a brief flash, you recognize the interior of the Ceres monitoring station!\n",
    "\n",
    "As the search for the Chief continues, a small Elf who lives on the station tugs on your shirt; she'd like to know if you could help her with her word search (your puzzle input). She only has to find one word: XMAS.\n",
    "\n",
    "This word search allows words to be horizontal, vertical, diagonal, written backwards, or even overlapping other words. It's a little unusual, though, as you don't merely need to find one instance of `XMAS` - you need to find all of them. Here are a few ways `XMAS` might appear, where irrelevant characters have been replaced with .:\n",
    "\n",
    "```\n",
    "..X...\n",
    ".SAMX.\n",
    ".A..A.\n",
    "XMAS.S\n",
    ".X....\n",
    "```\n",
    "\n",
    "The actual word search will be full of letters instead. For example:\n",
    "\n",
    "```\n",
    "MMMSXXMASM\n",
    "MSAMXMSMSA\n",
    "AMXSXMAAMM\n",
    "MSAMASMSMX\n",
    "XMASAMXAMM\n",
    "XXAMMXXAMA\n",
    "SMSMSASXSS\n",
    "SAXAMASAAA\n",
    "MAMMMXMMMM\n",
    "MXMXAXMASX\n",
    "```\n",
    "\n",
    "In this word search, XMAS occurs a total of 18 times; here's the same word search again, but where letters not involved in any XMAS have been replaced with .:\n",
    "\n",
    "```\n",
    "....XXMAS.\n",
    ".SAMXMS...\n",
    "...S..A...\n",
    "..A.A.MS.X\n",
    "XMASAMX.MM\n",
    "X.....XA.A\n",
    "S.S.S.S.SS\n",
    ".A.A.A.A.A\n",
    "..M.M.M.MM\n",
    ".X.X.XMASX\n",
    "```\n",
    "\n",
    "Take a look at the little Elf's word search. How many times does XMAS appear?\n"
   ]
  },
  {
   "cell_type": "code",
   "execution_count": 1,
   "metadata": {},
   "outputs": [],
   "source": [
    "// This input file is uploaded to the jupyter server to be able to read it locally.\n",
    "// A copy of the input was included in this repo.\n",
    "const TESTING = false\n",
    "let input:string = !TESTING ?\n",
    "\tawait Deno.readTextFile(\"./day4input.txt\") :\n",
    "\t[\n",
    "\t\t\"MMMSXXMASM\",\n",
    "\t\t\"MSAMXMSMSA\",\n",
    "\t\t\"AMXSXMAAMM\",\n",
    "\t\t\"MSAMASMSMX\",\n",
    "\t\t\"XMASAMXAMM\",\n",
    "\t\t\"XXAMMXXAMA\",\n",
    "\t\t\"SMSMSASXSS\",\n",
    "\t\t\"SAXAMASAAA\",\n",
    "\t\t\"MAMMMXMMMM\",\n",
    "\t\t\"MXMXAXMASX\",\n",
    "\t].join(\"\\n\").trimEnd()\n",
    "let found:[int,int][] = []\n",
    "let foundBuffer:[int,int][] = []"
   ]
  },
  {
   "cell_type": "markdown",
   "metadata": {},
   "source": [
    "### Solution thoughts\n",
    "\n",
    "Thinking of it as a two dimensional array, but stored as a single array with the entries being \"rows\" and the strings themselves representing columns, we can utilize the knowledge that a word search (at least this one) is a square. That means if we want to know the letter below a letter, we can go to the next \"row\" and look at the same \"column\".\n",
    "\n",
    "Similarly, finding things in diagonal directions is simply a factor of addition or subtraction by multiples of the number of rows we progress.\n",
    "\n",
    "For simplicity, check out of boundaries to ensure we don't go outside the \"square\". As an optimization, the algorithm can be improved by ignoring the top and bottom 4 rows for progressing up and down and the first and last 4 columns for progressing left and right respective."
   ]
  },
  {
   "cell_type": "code",
   "execution_count": 2,
   "metadata": {},
   "outputs": [
    {
     "name": "stdout",
     "output_type": "stream",
     "text": [
      "Found: 2639\n"
     ]
    }
   ],
   "source": [
    "const rows:string[] = input.split(\"\\n\")\n",
    "const target:string = \"XMAS\"\n",
    "const sequence:[[int, int]] = [\n",
    "\t[-1, -1],\t// above left\n",
    "\t[-1, 0],\t// above\n",
    "\t[-1, 1],\t// above right\n",
    "\t[0, -1],\t// left of\n",
    "\t[0, 1],\t\t// right of\n",
    "\t[1, -1],\t// below left\n",
    "\t[1, 0],\t\t// below\n",
    "\t[1, 1],\t\t// below right\n",
    "]\n",
    "function isNextInSequence(row: int, col: int, pos: int, seq: int): boolean {\n",
    "\tif (pos == target.length) {\n",
    "\t\treturn true\n",
    "\t}\n",
    "\tif (!rows[row] || col < 0 || col > rows[row].length) {\n",
    "\t\treturn false\n",
    "\t}\n",
    "\tif (rows[row].charAt(col) == target.charAt(pos)) {\n",
    "\t\tconst [srow, scol] = sequence[seq]\n",
    "\t\treturn isNextInSequence(row + srow, col + scol, pos+1, seq)\n",
    "\t}\n",
    "\treturn false\n",
    "}\n",
    "let answer = rows.reduce(function(total:int, row:string, rowi:int): int {\n",
    "\trow.split(\"\").forEach(function(_:char, coli:int) {\n",
    "\t\tsequence.forEach(function(seq:[int,int], seqi:int) {\n",
    "\t\t\tif (isNextInSequence(rowi, coli, 0, seqi)) {\n",
    "\t\t\t\ttotal++;\n",
    "\t\t\t}\n",
    "\t\t})\n",
    "\t})\n",
    "\treturn total\n",
    "}, 0)\n",
    "console.log(`Found: ${answer}`)"
   ]
  },
  {
   "cell_type": "markdown",
   "metadata": {},
   "source": [
    "### Part 1 Completion notes\n",
    "\n",
    "* Moved the sequence iteration out of the recursive function and into the general search.\n",
    "* The recursive check always goes 1 more iteration past what it needs to find, and if that is on an out of bounds location, it wouldn't get counted. I could have just checked for `S` directly on the last one to return true immediately, but for sake of completion, I just moved the position check prior to the out of bounds check and that resolved the issue."
   ]
  }
 ],
 "metadata": {
  "kernelspec": {
   "display_name": "Deno",
   "language": "typescript",
   "name": "deno"
  },
  "language_info": {
   "codemirror_mode": "typescript",
   "file_extension": ".ts",
   "mimetype": "text/x.typescript",
   "name": "typescript",
   "nbconvert_exporter": "script",
   "pygments_lexer": "typescript",
   "version": "5.6.2"
  }
 },
 "nbformat": 4,
 "nbformat_minor": 2
}
