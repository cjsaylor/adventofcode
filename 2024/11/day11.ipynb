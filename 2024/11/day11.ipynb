{
 "cells": [
  {
   "cell_type": "markdown",
   "metadata": {},
   "source": [
    "# Day 11: Plutonian Pebbles\n",
    "\n",
    "## Part One\n",
    "\n",
    "The ancient civilization on Pluto was known for its ability to manipulate spacetime, and while The Historians explore their infinite corridors, you've noticed a strange set of physics-defying stones.\n",
    "\n",
    "At first glance, they seem like normal stones: they're arranged in a perfectly straight line, and each stone has a number engraved on it.\n",
    "\n",
    "The strange part is that every time you blink, the stones change.\n",
    "\n",
    "Sometimes, the number engraved on a stone changes. Other times, a stone might split in two, causing all the other stones to shift over a bit to make room in their perfectly straight line.\n",
    "\n",
    "As you observe them for a while, you find that the stones have a consistent behavior. Every time you blink, the stones each simultaneously change according to the first applicable rule in this list:\n",
    "\n",
    "* If the stone is engraved with the number 0, it is replaced by a stone engraved with the number 1.\n",
    "* If the stone is engraved with a number that has an even number of digits, it is replaced by two stones. The left half of the digits are engraved on the new left stone, and the right half of the digits are engraved on the new right stone. (The new numbers don't keep extra leading zeroes: 1000 would become stones 10 and 0.)\n",
    "* If none of the other rules apply, the stone is replaced by a new stone; the old stone's number multiplied by 2024 is engraved on the new stone.\n",
    "\n",
    "No matter how the stones change, their order is preserved, and they stay on their perfectly straight line.\n",
    "\n",
    "How will the stones evolve if you keep blinking at them? You take a note of the number engraved on each stone in the line (your puzzle input).\n",
    "\n",
    "If you have an arrangement of five stones engraved with the numbers `0 1 10 99 999` and you blink once, the stones transform as follows:\n",
    "\n",
    "* The first stone, 0, becomes a stone marked 1.\n",
    "* The second stone, 1, is multiplied by 2024 to become 2024.\n",
    "* The third stone, 10, is split into a stone marked 1 followed by a stone marked 0.\n",
    "* The fourth stone, 99, is split into two stones marked 9.\n",
    "* The fifth stone, 999, is replaced by a stone marked 2021976.\n",
    "\n",
    "So, after blinking once, your five stones would become an arrangement of seven stones engraved with the numbers `1 2024 1 0 9 9 2021976`.\n",
    "\n",
    "Here is a longer example:\n",
    "\n",
    "Initial arrangement:\n",
    "\n",
    "`125 17`\n",
    "\n",
    "After 1 blink:\n",
    "\n",
    "`253000 1 7`\n",
    "\n",
    "After 2 blinks:\n",
    "\n",
    "`253 0 2024 14168`\n",
    "\n",
    "After 3 blinks:\n",
    "\n",
    "`512072 1 20 24 28676032`\n",
    "\n",
    "After 4 blinks:\n",
    "\n",
    "`512 72 2024 2 0 2 4 2867 6032`\n",
    "\n",
    "After 5 blinks:\n",
    "\n",
    "`1036288 7 2 20 24 4048 1 4048 8096 28 67 60 32`\n",
    "\n",
    "After 6 blinks:\n",
    "\n",
    "`2097446912 14168 4048 2 0 2 4 40 48 2024 40 48 80 96 2 8 6 7 6 0 3 2`\n",
    "\n",
    "In this example, after blinking six times, you would have `22` stones. After blinking 25 times, you would have `55312` stones!\n",
    "\n",
    "Consider the arrangement of stones in front of you. How many stones will you have after blinking 25 times?"
   ]
  },
  {
   "cell_type": "code",
   "execution_count": 1,
   "metadata": {},
   "outputs": [],
   "source": [
    "const input = true ?\n",
    "\t`0 7 198844 5687836 58 2478 25475 894` :\n",
    "\t`125 17`\n",
    "\n",
    "type RuleFunction = (stone: string) => (string | string[] | false)\n",
    "\n",
    "const rules: RuleFunction[] = [\n",
    "\t(stone) => stone == '0' ? '1' : false,\n",
    "\t(stone) => stone.length % 2 == 0 ?\n",
    "\t\t[\n",
    "\t\t\t''.concat(parseInt(stone.slice(0, stone.length / 2), 10)),\n",
    "\t\t\t''.concat(parseInt(stone.slice(stone.length / 2), 10))\n",
    "\t\t] :\n",
    "\t\tfalse,\n",
    "\t(stone) => ''.concat(parseInt(stone, 10) * 2024),\n",
    "]"
   ]
  },
  {
   "cell_type": "code",
   "execution_count": 2,
   "metadata": {},
   "outputs": [
    {
     "name": "stdout",
     "output_type": "stream",
     "text": [
      "Part one stone line count: 216996\n"
     ]
    }
   ],
   "source": [
    "const stones = input.split(' ')\n",
    "\n",
    "function blink(subjects:string[]): string[] {\n",
    "\treturn subjects.reduce((line:string[], stone:string) => {\n",
    "\t\tfor (let i = 0; i < rules.length; i++) {\n",
    "\t\t\tlet output = rules[i](stone)\n",
    "\t\t\tif (output !== false) {\n",
    "\t\t\t\tline = [...line, output]\n",
    "\t\t\t\tbreak\n",
    "\t\t\t}\n",
    "\t\t}\n",
    "\t\treturn line\n",
    "\t}, []).flat()\n",
    "}\n",
    "\n",
    "let partOne:string[] = [...stones]\n",
    "for (let i = 0; i < 25; i++) {\n",
    "\tpartOne = blink(partOne)\n",
    "}\n",
    "console.log(`Part one stone line count: ${partOne.length}`)"
   ]
  },
  {
   "cell_type": "markdown",
   "metadata": {},
   "source": [
    "## Part One Thoughts\n",
    "\n",
    "Splitting it into an array and continuously concatting it (while flatting) is super in-effecient, but it does work. It took `3m6s` on a *Intel(R) Xeon(R) CPU E3-1220 V2 @ 3.10GHz* single thread) on my input which is the longest running one of these so far, but it produced the correct answer. Would probably be best to operate on the string itself instead of on iteration of arrays."
   ]
  },
  {
   "cell_type": "markdown",
   "metadata": {},
   "source": [
    "## Part Two\n",
    "\n",
    "The Historians sure are taking a long time. To be fair, the infinite corridors are very large.\n",
    "\n",
    "How many stones would you have after blinking a total of `75` times?"
   ]
  },
  {
   "cell_type": "markdown",
   "metadata": {},
   "source": [
    "## Part Two Plan\n",
    "\n",
    "Clearly, this part is just testing the efficiency of part one.\n",
    "Since the stones have no impact on each other, I will iterate on each stone independently\n",
    "in a tree like approach when it needs to split, finally, I'll sum up the results at the end.\n",
    "\n",
    "I'll also update the split rule to be a string so I can destructure the results for detecting a split."
   ]
  },
  {
   "cell_type": "code",
   "execution_count": 3,
   "metadata": {},
   "outputs": [
    {
     "name": "stdout",
     "output_type": "stream",
     "text": [
      "Part two stone line count: 257335372288947\n"
     ]
    }
   ],
   "source": [
    "rules[1] = (stone:string) => {\n",
    "\treturn stone.length % 2 == 0 ?\n",
    "\t[\n",
    "\t\tparseInt(stone.slice(0, stone.length / 2), 10),\n",
    "\t\tparseInt(stone.slice(stone.length / 2), 10)\n",
    "\t].join(' ') :\n",
    "\tfalse\n",
    "}\n",
    "const cache: Map<string,int> = new Map()\n",
    "function blink(stone:string, iteration:int = 75): int {\n",
    "\tif (iteration == 0) {\n",
    "\t\treturn 1\n",
    "\t}\n",
    "\tlet cacheKey = `${stone},${iteration}`\n",
    "\tif (cache.has(cacheKey)) {\n",
    "\t\treturn cache.get(cacheKey)\n",
    "\t}\n",
    "\tfor (let i = 0; i <= rules.length; i++) {\n",
    "\t\tlet output = rules[i](stone)\n",
    "\t\tif (output !== false) {\n",
    "\t\t\tlet [left, right] = output.split(' ')\n",
    "\t\t\tif (right) {\n",
    "\t\t\t\tlet sum = blink(left, iteration - 1) + blink(right, iteration - 1)\n",
    "\t\t\t\tcache.set(cacheKey, sum)\n",
    "\t\t\t\treturn sum\n",
    "\t\t\t}\n",
    "\t\t\treturn blink(left, iteration - 1)\n",
    "\t\t}\n",
    "\t}\n",
    "}\n",
    "let partTwoCount = input.split(' ').reduce((sum:int, stone: string) => {\n",
    "\treturn sum + blink(stone)\n",
    "}, 0)\n",
    "\n",
    "console.log(`Part two stone line count: ${partTwoCount}`)"
   ]
  }
 ],
 "metadata": {
  "kernelspec": {
   "display_name": "Deno",
   "language": "typescript",
   "name": "deno"
  },
  "language_info": {
   "codemirror_mode": "typescript",
   "file_extension": ".ts",
   "mimetype": "text/x.typescript",
   "name": "typescript",
   "nbconvert_exporter": "script",
   "pygments_lexer": "typescript",
   "version": "5.6.2"
  }
 },
 "nbformat": 4,
 "nbformat_minor": 2
}
