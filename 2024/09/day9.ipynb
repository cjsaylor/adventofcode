{
 "cells": [
  {
   "cell_type": "markdown",
   "metadata": {},
   "source": [
    "# Day 9: Disk Fragmenter\n",
    "\n",
    "## Part 1\n",
    "\n",
    "Another push of the button leaves you in the familiar hallways of some friendly amphipods! Good thing you each somehow got your own personal mini submarine. The Historians jet away in search of the Chief, mostly by driving directly into walls.\n",
    "\n",
    "While The Historians quickly figure out how to pilot these things, you notice an amphipod in the corner struggling with his computer. He's trying to make more contiguous free space by compacting all of the files, but his program isn't working; you offer to help.\n",
    "\n",
    "He shows you the disk map (your puzzle input) he's already generated. For example:\n",
    "\n",
    "`2333133121414131402`\n",
    "\n",
    "The disk map uses a dense format to represent the layout of files and free space on the disk. The digits alternate between indicating the length of a file and the length of free space.\n",
    "\n",
    "So, a disk map like 12345 would represent a one-block file, two blocks of free space, a three-block file, four blocks of free space, and then a five-block file. A disk map like 90909 would represent three nine-block files in a row (with no free space between them).\n",
    "\n",
    "Each file on disk also has an ID number based on the order of the files as they appear before they are rearranged, starting with ID 0. So, the disk map 12345 has three files: a one-block file with ID 0, a three-block file with ID 1, and a five-block file with ID 2. Using one character for each block where digits are the file ID and . is free space, the disk map 12345 represents these individual blocks:\n",
    "\n",
    "`0..111....22222`\n",
    "\n",
    "The first example above, `2333133121414131402`, represents these individual blocks:\n",
    "\n",
    "`00...111...2...333.44.5555.6666.777.888899`\n",
    "\n",
    "The amphipod would like to move file blocks one at a time from the end of the disk to the leftmost free space block (until there are no gaps remaining between file blocks). For the disk map 12345, the process looks like this:\n",
    "\n",
    "```\n",
    "0..111....22222\n",
    "02.111....2222.\n",
    "022111....222..\n",
    "0221112...22...\n",
    "02211122..2....\n",
    "022111222......\n",
    "```\n",
    "\n",
    "The first example requires a few more steps:\n",
    "\n",
    "```\n",
    "00...111...2...333.44.5555.6666.777.888899\n",
    "009..111...2...333.44.5555.6666.777.88889.\n",
    "0099.111...2...333.44.5555.6666.777.8888..\n",
    "00998111...2...333.44.5555.6666.777.888...\n",
    "009981118..2...333.44.5555.6666.777.88....\n",
    "0099811188.2...333.44.5555.6666.777.8.....\n",
    "009981118882...333.44.5555.6666.777.......\n",
    "0099811188827..333.44.5555.6666.77........\n",
    "00998111888277.333.44.5555.6666.7.........\n",
    "009981118882777333.44.5555.6666...........\n",
    "009981118882777333644.5555.666............\n",
    "00998111888277733364465555.66.............\n",
    "0099811188827773336446555566..............\n",
    "```\n",
    "\n",
    "The final step of this file-compacting process is to update the filesystem checksum. To calculate the checksum, add up the result of multiplying each of these blocks' position with the file ID number it contains. The leftmost block is in position 0. If a block contains free space, skip it instead.\n",
    "\n",
    "Continuing the first example, the first few blocks' position multiplied by its file ID number are `0 * 0 = 0, 1 * 0 = 0, 2 * 9 = 18, 3 * 9 = 27, 4 * 8 = 32`, and so on. In this example, the checksum is the sum of these, `1928`.\n",
    "\n",
    "Compact the amphipod's hard drive using the process he requested. What is the resulting filesystem checksum?"
   ]
  },
  {
   "cell_type": "code",
   "execution_count": 1,
   "metadata": {},
   "outputs": [],
   "source": [
    "const input:string = true ?\n",
    "\tawait Deno.readTextFile('day9input.txt') :\n",
    "\t`2333133121414131402`"
   ]
  },
  {
   "cell_type": "code",
   "execution_count": 2,
   "metadata": {},
   "outputs": [
    {
     "name": "stdout",
     "output_type": "stream",
     "text": [
      "Checksum: 6367087064415\n"
     ]
    }
   ],
   "source": [
    "const blockSizes:int[] = []\n",
    "const freeSpace:int[] = []\n",
    "const dataType = (index: int): int[] => index % 2 == 0 ? blockSizes : freeSpace\n",
    "// split formated input\n",
    "input.split('').forEach((val:string, i:int) => {\n",
    "\tdataType(i).push(parseInt(input.charAt(i), 10))\n",
    "})\n",
    "// recompose data \"defragmented\"\n",
    "let defragged:int[] = []\n",
    "let endBlock = blockSizes.length - 1\n",
    "for (let i = 0; i < blockSizes.length; i++) {\n",
    "\t// blocks in their normal place\n",
    "\tdefragged.push(Array(blockSizes[i]).fill(i))\n",
    "\t// Fill this iteration's free space\n",
    "\twhile (blockSizes[i] > 0 && freeSpace[i] > 0 && endBlock > i) {\n",
    "\t\tif (blockSizes[endBlock] <= freeSpace[i]) {\n",
    "\t\t\tdefragged.push(Array(blockSizes[endBlock]).fill(endBlock))\n",
    "\t\t\tfreeSpace[i] -= blockSizes[endBlock]\n",
    "\t\t\tblockSizes[endBlock] = 0\n",
    "\t\t\tendBlock -= 1\n",
    "\t\t} else {\n",
    "\t\t\tdefragged.push(Array(freeSpace[i]).fill(endBlock))\n",
    "\t\t\tblockSizes[endBlock] -= freeSpace[i]\n",
    "\t\t\tfreeSpace[i] = 0\n",
    "\t\t}\n",
    "\t}\n",
    "}\n",
    "let checksum = defragged.flat().reduce((sum:int, value:int, i:int) => sum + (value * i), 0)\n",
    "console.log(`Checksum: ${checksum}`)"
   ]
  },
  {
   "cell_type": "markdown",
   "metadata": {},
   "source": [
    "## Part One Gotcha\n",
    "\n",
    "I was concatenating a string to build up the defragged output, however when calculating the checksum, I failed to realize the file ID could be multi-digit (which the example isn't long enough to produce), so instead of a string, it needs to be an array in order to preserve the file ID fidelity.\n",
    "\n",
    "Note: Pushing arrays into the result will require it to be flattened at the end to get the result desired."
   ]
  },
  {
   "cell_type": "markdown",
   "metadata": {},
   "source": [
    "## Part Two\n",
    "\n",
    "Upon completion, two things immediately become clear. First, the disk definitely has a lot more contiguous free space, just like the amphipod hoped. Second, the computer is running much more slowly! Maybe introducing all of that file system fragmentation was a bad idea?\n",
    "\n",
    "The eager amphipod already has a new plan: rather than move individual blocks, he'd like to try compacting the files on his disk by moving whole files instead.\n",
    "\n",
    "This time, attempt to move whole files to the leftmost span of free space blocks that could fit the file. Attempt to move each file exactly once in order of decreasing file ID number starting with the file with the highest file ID number. If there is no span of free space to the left of a file that is large enough to fit the file, the file does not move.\n",
    "\n",
    "The first example from above now proceeds differently:\n",
    "\n",
    "```\n",
    "00...111...2...333.44.5555.6666.777.888899\n",
    "0099.111...2...333.44.5555.6666.777.8888..\n",
    "0099.1117772...333.44.5555.6666.....8888..\n",
    "0099.111777244.333....5555.6666.....8888..\n",
    "00992111777.44.333....5555.6666.....8888..\n",
    "```\n",
    "\n",
    "The process of updating the filesystem checksum is the same; now, this example's checksum would be `2858`.\n",
    "\n",
    "Start over, now compacting the amphipod's hard drive using this new method instead. What is the resulting filesystem checksum?"
   ]
  }
 ],
 "metadata": {
  "kernelspec": {
   "display_name": "Deno",
   "language": "typescript",
   "name": "deno"
  },
  "language_info": {
   "codemirror_mode": "typescript",
   "file_extension": ".ts",
   "mimetype": "text/x.typescript",
   "name": "typescript",
   "nbconvert_exporter": "script",
   "pygments_lexer": "typescript",
   "version": "5.6.2"
  }
 },
 "nbformat": 4,
 "nbformat_minor": 2
}
