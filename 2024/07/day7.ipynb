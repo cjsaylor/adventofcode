{
 "cells": [
  {
   "cell_type": "markdown",
   "metadata": {},
   "source": [
    "# Day 7: Bridge Repair\n",
    "\n",
    "## Part One\n",
    "\n",
    "The Historians take you to a familiar rope bridge over a river in the middle of a jungle. The Chief isn't on this side of the bridge, though; maybe he's on the other side?\n",
    "\n",
    "When you go to cross the bridge, you notice a group of engineers trying to repair it. (Apparently, it breaks pretty frequently.) You won't be able to cross until it's fixed.\n",
    "\n",
    "You ask how long it'll take; the engineers tell you that it only needs final calibrations, but some young elephants were playing nearby and stole all the operators from their calibration equations! They could finish the calibrations if only someone could determine which test values could possibly be produced by placing any combination of operators into their calibration equations (your puzzle input).\n",
    "\n",
    "For example:\n",
    "\n",
    "```\n",
    "190: 10 19\n",
    "3267: 81 40 27\n",
    "83: 17 5\n",
    "156: 15 6\n",
    "7290: 6 8 6 15\n",
    "161011: 16 10 13\n",
    "192: 17 8 14\n",
    "21037: 9 7 18 13\n",
    "292: 11 6 16 20\n",
    "```\n",
    "\n",
    "Each line represents a single equation. The test value appears before the colon on each line; it is your job to determine whether the remaining numbers can be combined with operators to produce the test value.\n",
    "\n",
    "Operators are always evaluated left-to-right, not according to precedence rules. Furthermore, numbers in the equations cannot be rearranged. Glancing into the jungle, you can see elephants holding two different types of operators: add (+) and multiply (*).\n",
    "\n",
    "Only three of the above equations can be made true by inserting operators:\n",
    "\n",
    "* `190: 10 19` has only one position that accepts an operator: between 10 and 19. Choosing `+` would give 29, but choosing `*` would give the test value (`10 * 19 = 190`).\n",
    "* `3267: 81 40 27` has two positions for operators. Of the four possible configurations of the operators, two cause the right side to match the test value: `81 + 40 * 27` and `81 * 40 + 27` both equal 3267 (when evaluated left-to-right)!\n",
    "* `292: 11 6 16 20` can be solved in exactly one way: `11 + 6 * 16 + 20`.\n",
    "\n",
    "The engineers just need the total calibration result, which is the sum of the test values from just the equations that could possibly be true. In the above example, the sum of the test values for the three equations listed above is 3749.\n",
    "\n",
    "Determine which equations could possibly be true. What is their total calibration result?"
   ]
  },
  {
   "cell_type": "code",
   "execution_count": null,
   "metadata": {},
   "outputs": [],
   "source": [
    "const input = true ?\n",
    "\tawait Deno.readTextFile(\"./day7input.txt\") :\n",
    "\t`\n",
    "190: 10 19\n",
    "3267: 81 40 27\n",
    "83: 17 5\n",
    "156: 15 6\n",
    "7290: 6 8 6 15\n",
    "161011: 16 10 13\n",
    "192: 17 8 14\n",
    "21037: 9 7 18 13\n",
    "292: 11 6 16 20\n",
    "`.trim()"
   ]
  },
  {
   "cell_type": "code",
   "execution_count": 20,
   "metadata": {},
   "outputs": [
    {
     "name": "stdout",
     "output_type": "stream",
     "text": [
      "Total calibration result: 3749\n"
     ]
    }
   ],
   "source": [
    "const calibrations: int[][] = input.split(\"\\n\").map((entry:string) => {\n",
    "\tconst [testValue, rest] = entry.split(\":\")\n",
    "\treturn [testValue, ...rest.trim().split(\" \")].map((num:string):int => parseInt(num, 10))\n",
    "})\n",
    "\n",
    "function cartesianProduct(input:string[], repeat:int): string[][] {\n",
    "\tif (repeat == 0) {\n",
    "\t\treturn [[]]\n",
    "\t}\n",
    "\tconst result = []\n",
    "\tfor (const el of input) {\n",
    "\t\tconst subResults = cartesianProduct(input, repeat - 1)\n",
    "\t\tfor (const subResult of subResults) {\n",
    "\t\t\tresult.push([el, ...subResult])\n",
    "\t\t}\n",
    "\t}\n",
    "\treturn result\n",
    "}\n",
    "\n",
    "function evaluate(ops:string[]): int {\n",
    "\tlet result = 0\n",
    "\tfor (let i = 0; i < ops.length - 1; i += 2) {\n",
    "\t\tlet [left, right] = [result || ops[i], ops[i+2]]\n",
    "\t\tswitch(ops[i+1]) {\n",
    "\t\t\tcase '*': result = left * right; break\n",
    "\t\t\tcase '+': result = left + right; break\n",
    "\t\t\t// Part two additional operation\n",
    "\t\t\tcase '||': result = parseInt(\"\".concat(left, right), 10); break\n",
    "\t\t}\n",
    "\t}\n",
    "\treturn result\n",
    "}\n",
    "\n",
    "function calibrationTotal(ops:string[]): int {\n",
    "\treturn calibrations.reduce((sum: int, calibration: int[]) => {\n",
    "\t\tlet [testValue, ...operands] = calibration\n",
    "\t\tlet results = cartesianProduct(ops, operands.length - 1).map((entry) => {\n",
    "\t\t\tlet joined = [operands[0]]\n",
    "\t\t\tfor (let i = 0; i < entry.length; i++) {\n",
    "\t\t\t\tjoined = [...joined, entry[i], operands[i + 1]]\n",
    "\t\t\t}\n",
    "\t\t\treturn joined\n",
    "\t\t}).map((equation: (int|string)[]) => evaluate(equation))\n",
    "\t\treturn sum + (results.find((result) => result == testValue) ? testValue : 0)\n",
    "\t}, 0)\n",
    "}\n",
    "\n",
    "console.log(`Total calibration result: ${calibrationTotal(['+', '*'])}`)"
   ]
  },
  {
   "cell_type": "markdown",
   "metadata": {},
   "source": [
    "## Part Two\n",
    "\n",
    "The engineers seem concerned; the total calibration result you gave them is nowhere close to being within safety tolerances. Just then, you spot your mistake: some well-hidden elephants are holding a third type of operator.\n",
    "\n",
    "The concatenation operator (`||`) combines the digits from its left and right inputs into a single number. For example, `12 || 345` would become `12345`. All operators are still evaluated left-to-right.\n",
    "\n",
    "Now, apart from the three equations that could be made true using only addition and multiplication, the above example has three more equations that can be made true by inserting operators:\n",
    "\n",
    "* `156: 15 6` can be made true through a single concatenation: `15 || 6 = 156`.\n",
    "* `7290: 6 8 6 15` can be made true using `6 * 8 || 6 * 15`.\n",
    "* `192: 17 8 14` can be made true using `17 || 8 + 14`.\n",
    "\n",
    "Adding up all six test values (the three that could be made before using only + and * plus the new three that can now be made by also using ||) produces the new total calibration result of 11387.\n",
    "\n",
    "Using your new knowledge of elephant hiding spots, determine which equations could possibly be true. What is their total calibration result?"
   ]
  },
  {
   "cell_type": "code",
   "execution_count": null,
   "metadata": {},
   "outputs": [
    {
     "name": "stdout",
     "output_type": "stream",
     "text": [
      "Total calibration result: 340362529351427\n"
     ]
    }
   ],
   "source": [
    "console.log(`Total calibration result: ${calibrationTotal(['+', '*', '||'])}`)"
   ]
  }
 ],
 "metadata": {
  "kernelspec": {
   "display_name": "Deno",
   "language": "typescript",
   "name": "deno"
  },
  "language_info": {
   "codemirror_mode": "typescript",
   "file_extension": ".ts",
   "mimetype": "text/x.typescript",
   "name": "typescript",
   "nbconvert_exporter": "script",
   "pygments_lexer": "typescript",
   "version": "5.6.2"
  }
 },
 "nbformat": 4,
 "nbformat_minor": 2
}
